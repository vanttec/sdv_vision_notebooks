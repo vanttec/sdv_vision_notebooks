{
 "cells": [
  {
   "cell_type": "markdown",
   "metadata": {},
   "source": [
    "# Scripts to Process Images and Videos"
   ]
  },
  {
   "cell_type": "markdown",
   "metadata": {},
   "source": [
    "Import Libraries"
   ]
  },
  {
   "cell_type": "code",
   "execution_count": 1,
   "metadata": {},
   "outputs": [],
   "source": [
    "import cv2\n",
    "import os \n",
    "import numpy as np\n",
    "import math\n",
    "from ultralytics import YOLO\n",
    "from ultralytics.utils.plotting import Annotator, colors"
   ]
  },
  {
   "cell_type": "markdown",
   "metadata": {},
   "source": [
    "## Program To Read video and Extract Frames "
   ]
  },
  {
   "cell_type": "code",
   "execution_count": 2,
   "metadata": {},
   "outputs": [
    {
     "ename": "error",
     "evalue": "OpenCV(4.6.0) /io/opencv/modules/imgcodecs/src/loadsave.cpp:801: error: (-215:Assertion failed) !_img.empty() in function 'imwrite'\n",
     "output_type": "error",
     "traceback": [
      "\u001b[0;31m---------------------------------------------------------------------------\u001b[0m",
      "\u001b[0;31merror\u001b[0m                                     Traceback (most recent call last)",
      "Cell \u001b[0;32mIn[2], line 33\u001b[0m\n\u001b[1;32m     29\u001b[0m \u001b[38;5;66;03m# Driver Code \u001b[39;00m\n\u001b[1;32m     30\u001b[0m \u001b[38;5;28;01mif\u001b[39;00m \u001b[38;5;18m__name__\u001b[39m \u001b[38;5;241m==\u001b[39m \u001b[38;5;124m'\u001b[39m\u001b[38;5;124m__main__\u001b[39m\u001b[38;5;124m'\u001b[39m: \n\u001b[1;32m     31\u001b[0m \n\u001b[1;32m     32\u001b[0m \t\u001b[38;5;66;03m# Calling the function \u001b[39;00m\n\u001b[0;32m---> 33\u001b[0m \t\u001b[43mFrameCapture\u001b[49m\u001b[43m(\u001b[49m\u001b[43mVIDEO_PATH\u001b[49m\u001b[43m,\u001b[49m\u001b[43m \u001b[49m\u001b[43mREFERENCE_PATH\u001b[49m\u001b[43m)\u001b[49m \n",
      "Cell \u001b[0;32mIn[2], line 24\u001b[0m, in \u001b[0;36mFrameCapture\u001b[0;34m(video_path, saving_path)\u001b[0m\n\u001b[1;32m     21\u001b[0m success, image \u001b[38;5;241m=\u001b[39m vidObj\u001b[38;5;241m.\u001b[39mread() \n\u001b[1;32m     23\u001b[0m \u001b[38;5;66;03m# Saves the frames with frame-count \u001b[39;00m\n\u001b[0;32m---> 24\u001b[0m \u001b[43mcv2\u001b[49m\u001b[38;5;241;43m.\u001b[39;49m\u001b[43mimwrite\u001b[49m\u001b[43m(\u001b[49m\u001b[38;5;124;43m\"\u001b[39;49m\u001b[38;5;124;43mframe_\u001b[39;49m\u001b[38;5;132;43;01m%d\u001b[39;49;00m\u001b[38;5;124;43m.jpg\u001b[39;49m\u001b[38;5;124;43m\"\u001b[39;49m\u001b[43m \u001b[49m\u001b[38;5;241;43m%\u001b[39;49m\u001b[43m \u001b[49m\u001b[43mcount\u001b[49m\u001b[43m,\u001b[49m\u001b[43m \u001b[49m\u001b[43mimage\u001b[49m\u001b[43m)\u001b[49m \n\u001b[1;32m     26\u001b[0m count \u001b[38;5;241m+\u001b[39m\u001b[38;5;241m=\u001b[39m \u001b[38;5;241m1\u001b[39m\n",
      "\u001b[0;31merror\u001b[0m: OpenCV(4.6.0) /io/opencv/modules/imgcodecs/src/loadsave.cpp:801: error: (-215:Assertion failed) !_img.empty() in function 'imwrite'\n"
     ]
    }
   ],
   "source": [
    "REFERENCE_PATH = \"/home/fcanof/Documents/sdv_vision_notebooks/data/video_extracted_imgs\"\n",
    "VIDEO_PATH = \"//home/fcanof/Documents/sdv_vision_notebooks/data/ref_video/person_depth.mp4\"\n",
    "\n",
    "# Function to extract frames \n",
    "def FrameCapture(video_path,saving_path): \n",
    "\n",
    "\t# Path to video file \n",
    "\tvidObj = cv2.VideoCapture(video_path)\n",
    "\tos.chdir(saving_path)\n",
    "\n",
    "\t# Used as counter variable \n",
    "\tcount = 0\n",
    "\n",
    "\t# checks whether frames were extracted \n",
    "\tsuccess = 1\n",
    "\n",
    "\twhile success: \n",
    "\n",
    "\t\t# vidObj object calls read \n",
    "\t\t# function extract frames \n",
    "\t\tsuccess, image = vidObj.read() \n",
    "\n",
    "\t\t# Saves the frames with frame-count \n",
    "\t\tcv2.imwrite(\"frame_%d.jpg\" % count, image) \n",
    "\n",
    "\t\tcount += 1\n",
    "\n",
    "\n",
    "# Driver Code \n",
    "if __name__ == '__main__': \n",
    "\n",
    "\t# Calling the function \n",
    "\tFrameCapture(VIDEO_PATH, REFERENCE_PATH) \n",
    "\n"
   ]
  },
  {
   "cell_type": "markdown",
   "metadata": {},
   "source": []
  },
  {
   "cell_type": "code",
   "execution_count": null,
   "metadata": {},
   "outputs": [],
   "source": []
  }
 ],
 "metadata": {
  "kernelspec": {
   "display_name": "Python 3",
   "language": "python",
   "name": "python3"
  },
  "language_info": {
   "codemirror_mode": {
    "name": "ipython",
    "version": 3
   },
   "file_extension": ".py",
   "mimetype": "text/x-python",
   "name": "python",
   "nbconvert_exporter": "python",
   "pygments_lexer": "ipython3",
   "version": "3.10.12"
  }
 },
 "nbformat": 4,
 "nbformat_minor": 2
}
